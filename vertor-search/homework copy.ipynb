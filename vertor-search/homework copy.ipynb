{
 "cells": [
  {
   "cell_type": "code",
   "execution_count": 31,
   "id": "fb78b0af-8c6e-479e-a200-1627bcbeb4ff",
   "metadata": {},
   "outputs": [],
   "source": [
    "from sentence_transformers import SentenceTransformer\n"
   ]
  },
  {
   "cell_type": "code",
   "execution_count": 3,
   "id": "cffc66da-d176-4a63-9a28-5efb13055c19",
   "metadata": {},
   "outputs": [],
   "source": [
    "model = 'multi-qa-distilbert-cos-v1'"
   ]
  },
  {
   "cell_type": "code",
   "execution_count": 4,
   "id": "c604da72-80a8-4b6a-9a63-b0c4fb27ce2c",
   "metadata": {},
   "outputs": [],
   "source": [
    "embedding_model = SentenceTransformer(model)"
   ]
  },
  {
   "cell_type": "code",
   "execution_count": 5,
   "id": "4ba20ca5-5102-4fb1-bc84-4f980738a440",
   "metadata": {},
   "outputs": [],
   "source": [
    "user_question = \"I just discovered the course. Can I still join it?\""
   ]
  },
  {
   "cell_type": "code",
   "execution_count": 10,
   "id": "7ccd16e7-ec5c-41cc-81b1-09795e8491cf",
   "metadata": {},
   "outputs": [],
   "source": [
    "embed_vector = embedding_model.encode(user_question)"
   ]
  },
  {
   "cell_type": "code",
   "execution_count": 11,
   "id": "a2d1ead2-6eb9-4a67-b599-231a1dc90514",
   "metadata": {},
   "outputs": [
    {
     "data": {
      "text/plain": [
       "array([ 7.82226548e-02, -4.01311405e-02,  3.86135913e-02, -1.78966438e-04,\n",
       "        8.92347097e-02, -5.04591092e-02, -1.05026569e-02,  3.71055678e-02,\n",
       "       -4.18713912e-02,  3.48084792e-02, -1.20701883e-02, -2.36942340e-02,\n",
       "        3.87900174e-02,  1.60988607e-02,  3.50747295e-02,  3.04746162e-03,\n",
       "        5.79672381e-02, -4.10627462e-02, -3.41552682e-02, -2.56396383e-02,\n",
       "       -3.55263911e-02,  1.42908087e-02, -1.62799917e-02,  3.21446545e-02,\n",
       "       -4.66897376e-02,  7.89186060e-02,  4.90160920e-02,  1.56761166e-02,\n",
       "       -1.69110075e-02,  2.26482227e-02,  5.60206100e-02, -3.98361087e-02,\n",
       "        6.77409917e-02, -1.20209912e-02,  1.12621894e-03, -1.94394365e-02,\n",
       "       -2.65951678e-02,  1.06177367e-02,  1.69687122e-02,  1.13487840e-02,\n",
       "       -2.97063086e-02,  5.25258258e-02, -1.41453547e-02,  4.61699851e-02,\n",
       "        1.17066065e-02, -2.38053519e-02, -6.32558241e-02, -1.92042235e-02,\n",
       "       -7.10592186e-03,  3.24167833e-02,  2.49618199e-02, -5.27503015e-03,\n",
       "        2.01149024e-02, -3.72371152e-02,  3.46405394e-02, -3.29310261e-02,\n",
       "       -2.01484803e-02,  5.07839303e-03, -4.55506742e-02,  7.89169688e-03,\n",
       "       -4.91713583e-02,  4.69897278e-02, -3.80505981e-06,  2.48839278e-02,\n",
       "       -2.96471510e-02,  6.69760117e-03,  3.58087718e-02, -7.18094781e-03,\n",
       "       -3.03277262e-02,  7.95786362e-03,  3.36150825e-02, -2.25491151e-02,\n",
       "       -3.62097844e-02, -2.03929059e-02, -2.70679290e-03, -8.15981850e-02,\n",
       "       -1.43993227e-02,  4.90568765e-02, -2.11568642e-02,  9.31681832e-04,\n",
       "        6.57264590e-02,  4.69609909e-02,  1.23655573e-02, -2.84593143e-02,\n",
       "       -2.57528741e-02,  1.46925887e-02, -5.53987361e-02, -3.05970423e-02,\n",
       "        5.75574040e-02,  2.81941295e-02, -1.30107012e-02, -2.08614748e-02,\n",
       "       -2.43033655e-02, -2.40275078e-02,  4.11576889e-02, -5.92422858e-02,\n",
       "       -1.69009902e-03,  4.00552042e-02,  2.43852679e-02, -1.10905133e-02,\n",
       "       -2.93893088e-02,  2.01826487e-02,  4.22846200e-03,  2.95343306e-02,\n",
       "        3.16523425e-02,  3.00929882e-02,  8.98854155e-03, -8.30620825e-02,\n",
       "       -2.24144291e-02,  1.82182994e-02, -5.66515476e-02, -4.21271920e-02,\n",
       "        3.27233039e-02, -2.10854225e-02, -4.79223672e-03,  1.90163292e-02,\n",
       "        4.55397591e-02, -9.62481555e-03, -2.30316184e-02, -3.52343246e-02,\n",
       "       -3.91419008e-02, -3.46547812e-02,  2.47354899e-02,  4.71566729e-02,\n",
       "        3.46270725e-02,  5.29964082e-02, -2.86405422e-02, -1.71785112e-02,\n",
       "       -1.30146304e-02, -5.79404645e-02,  3.99250425e-02, -5.88766523e-02,\n",
       "        4.57601547e-02,  2.09622178e-02, -1.52759813e-02,  3.25414911e-02,\n",
       "        2.08252836e-02, -2.48042028e-02, -4.24147137e-02,  2.95954887e-02,\n",
       "       -4.62034531e-02,  3.17028686e-02, -7.64973415e-03,  5.84934885e-03,\n",
       "       -3.90673876e-02,  8.11777450e-03, -3.60446684e-02,  6.34325966e-02,\n",
       "       -4.23138998e-02, -1.57085271e-03,  9.18294396e-03, -2.99421139e-02,\n",
       "       -2.27955412e-02, -9.86715313e-03,  2.94452514e-02,  1.75152998e-02,\n",
       "       -1.93444565e-02,  2.40450036e-02,  2.92803030e-02,  4.78763308e-04,\n",
       "        2.55402960e-02, -3.34960185e-02,  3.04799844e-02, -9.45277605e-03,\n",
       "        3.35257240e-02,  5.77760562e-02, -1.58551391e-02, -7.15148151e-02,\n",
       "        6.71641843e-04, -7.77694816e-03, -5.37220389e-02, -1.58578809e-02,\n",
       "        2.93348879e-02, -5.35059497e-02, -2.82784868e-02, -3.81728970e-02,\n",
       "        1.05941994e-03,  3.31668765e-03,  2.60325111e-02, -2.05704104e-02,\n",
       "       -2.55044121e-02, -2.73665562e-02,  2.12153289e-02, -3.17961685e-02,\n",
       "       -2.71619149e-02, -3.00257225e-02, -5.35569862e-02,  1.62939113e-02,\n",
       "        2.55571841e-03,  7.67827779e-02,  3.24226320e-02,  3.80413905e-02,\n",
       "       -2.25355513e-02, -4.81641367e-02,  2.26790644e-02,  1.25548532e-02,\n",
       "       -4.78156134e-02,  4.13825735e-02, -9.52939037e-03,  3.37111093e-02,\n",
       "        3.21243405e-02,  5.91824725e-02, -7.25298226e-02, -7.38689676e-03,\n",
       "       -3.22184600e-02,  3.09309158e-02,  5.23214079e-02,  3.24243642e-02,\n",
       "       -3.95455174e-02, -2.63985246e-02, -2.35443041e-02,  2.39192112e-03,\n",
       "        3.20997350e-02,  8.44291691e-03,  9.85345244e-03,  1.95927639e-02,\n",
       "        3.99371944e-02,  4.52749990e-02,  3.52183990e-02,  1.67367645e-02,\n",
       "        2.65721064e-02, -8.88593495e-03, -1.27366967e-02, -5.89371249e-02,\n",
       "       -2.89509296e-02,  2.18168125e-02, -4.62896600e-02, -5.12742111e-03,\n",
       "       -2.73846313e-02, -4.35681045e-02, -3.33959796e-02,  2.61665066e-03,\n",
       "        6.77051917e-02, -6.68666838e-03,  4.25815843e-02, -8.47998168e-03,\n",
       "       -4.45969924e-02, -4.92077544e-02,  2.54241284e-02,  3.41309234e-02,\n",
       "        4.66176234e-02,  3.41222510e-02, -3.89920324e-02,  6.68450594e-02,\n",
       "        6.32637590e-02, -1.53560825e-02, -6.43526320e-04,  1.88045055e-02,\n",
       "        1.10457549e-02, -2.76161581e-02,  4.89471853e-02, -6.65619299e-02,\n",
       "        4.41557867e-03, -8.06404930e-03, -7.56582916e-02,  5.20581715e-02,\n",
       "       -1.68674570e-02, -1.51841035e-02,  2.59556379e-02,  4.38798638e-03,\n",
       "        1.29939690e-02,  2.37958338e-02, -3.92605551e-02,  3.40803619e-03,\n",
       "       -4.65255305e-02, -5.80669269e-02, -4.86324355e-02,  3.85592617e-02,\n",
       "        1.58163607e-02, -3.55917811e-02, -6.13349043e-02, -4.66559343e-02,\n",
       "        3.48288640e-02, -3.00835352e-02, -3.80521938e-02,  5.35570718e-02,\n",
       "       -4.42223065e-02, -4.11476716e-02,  2.34690122e-02,  4.05010542e-05,\n",
       "       -2.18803668e-03, -2.06341594e-03, -4.33782414e-02, -6.21988031e-04,\n",
       "       -4.64339629e-02,  8.27862918e-02, -1.49072725e-02,  3.24270837e-02,\n",
       "        1.35792540e-02, -1.49164279e-03,  8.62602443e-02,  6.92182630e-02,\n",
       "        4.57403949e-03,  3.55520216e-03,  6.91157132e-02, -9.68690887e-02,\n",
       "        3.21001112e-02, -1.90142468e-02,  7.19640031e-02,  7.18858466e-02,\n",
       "        2.10939180e-02, -8.37227912e-04, -2.27937177e-02,  1.27857607e-02,\n",
       "        9.23394412e-02, -5.41783869e-02,  4.61493842e-02, -7.08942907e-03,\n",
       "       -3.20987105e-02, -3.81699614e-02, -4.22405638e-02,  5.16356155e-02,\n",
       "        1.07124997e-02, -5.59868626e-02, -2.29028445e-02,  3.15916613e-02,\n",
       "       -5.60135320e-02,  1.22199180e-02, -1.85765512e-02, -3.86150531e-03,\n",
       "        5.66245541e-02,  3.09960041e-02,  3.28162983e-02,  5.95071204e-02,\n",
       "       -1.15265511e-02,  2.45990828e-02,  1.98689359e-03,  3.61350439e-02,\n",
       "        7.19022304e-02,  6.74675079e-03, -2.22808663e-02,  3.80802527e-02,\n",
       "       -3.19978781e-02,  4.77899686e-02, -4.88462038e-02, -2.62966491e-02,\n",
       "       -9.14799236e-03, -3.70225236e-02, -2.10673101e-02,  3.66252549e-02,\n",
       "       -2.93567218e-03,  1.90015603e-02, -4.06738557e-02, -9.88849811e-03,\n",
       "       -1.32069951e-02, -1.84205808e-02, -3.04457080e-02, -1.17648123e-02,\n",
       "       -2.16220692e-02, -1.32907946e-02, -4.90810424e-02,  3.75495143e-02,\n",
       "        2.36799140e-02,  6.20988198e-03,  1.94518864e-02,  1.11171426e-02,\n",
       "       -1.27271013e-02, -1.16941072e-02, -4.15579043e-02,  3.03730648e-03,\n",
       "        3.35785486e-02,  2.02150960e-02, -5.23533672e-02, -1.03417831e-02,\n",
       "       -3.44100222e-02, -1.83595158e-02,  1.93087698e-03,  3.44448425e-02,\n",
       "       -2.83047985e-02,  7.25740707e-03,  5.40008917e-02, -2.32120547e-02,\n",
       "       -2.37849094e-02,  5.14848623e-03, -1.04726683e-02, -3.04511134e-02,\n",
       "       -1.45228235e-02,  5.83771989e-02,  6.24929834e-03,  1.76533423e-02,\n",
       "        2.71377694e-02, -2.07602661e-02, -4.82953712e-03,  4.38607484e-02,\n",
       "        4.89790700e-02, -1.84726194e-02,  2.23985426e-02,  2.48786900e-02,\n",
       "       -7.83604383e-03,  2.70838495e-02,  8.69912207e-02,  5.14607914e-02,\n",
       "        2.68816669e-02, -2.45199017e-02,  1.98570788e-02,  2.55423058e-02,\n",
       "       -4.49709669e-02,  1.18260039e-02, -5.71240447e-02,  6.86878189e-02,\n",
       "        2.32738610e-02,  4.34287377e-02,  1.60184391e-02,  3.36551219e-02,\n",
       "        1.18744997e-02,  1.84787195e-02,  2.18717437e-02,  8.06097686e-03,\n",
       "        2.65186783e-02, -1.67910997e-02, -1.14257671e-02,  5.79696000e-02,\n",
       "        2.19955631e-02, -7.88591802e-02,  4.26271632e-02, -7.00563341e-02,\n",
       "        5.12132347e-02,  2.96157692e-02,  4.99608479e-02,  9.40513331e-03,\n",
       "       -4.73498330e-02,  4.21216972e-02, -1.81927457e-02, -7.69210979e-02,\n",
       "        9.72863659e-03, -6.79067299e-02,  1.55991707e-02,  2.72873025e-02,\n",
       "        4.54439968e-03, -2.10018735e-03,  7.53396973e-02,  1.33481680e-03,\n",
       "       -1.99394729e-02, -5.24484590e-02,  3.05672060e-03,  1.98291969e-02,\n",
       "        2.39940807e-02,  1.24235880e-02,  1.47050265e-02,  1.03529589e-02,\n",
       "       -4.38815281e-02,  4.75225709e-02,  3.21548879e-02,  6.52114162e-04,\n",
       "       -2.02529635e-02,  4.32258882e-02, -2.71596666e-02,  1.38091687e-02,\n",
       "       -3.86391468e-02,  2.84993276e-02, -2.27448484e-03,  3.99671830e-02,\n",
       "        1.53477099e-02,  1.32416096e-02, -7.11276606e-02,  3.93648371e-02,\n",
       "        2.51131710e-02, -2.36388445e-02,  1.80941354e-02, -2.43954528e-02,\n",
       "        2.19318410e-03,  3.75051983e-02,  1.56092057e-02,  7.14064203e-03,\n",
       "       -3.41359712e-02,  7.57620391e-03,  2.62274388e-02,  1.14289289e-02,\n",
       "        3.52655686e-02,  2.13690219e-03, -4.56283707e-03, -2.63882335e-02,\n",
       "        6.55588508e-02,  6.00263663e-02, -3.54714617e-02, -1.01350760e-02,\n",
       "        2.56268885e-02, -1.02697171e-01,  3.54785323e-02, -6.22319356e-02,\n",
       "       -1.14733977e-02, -3.44268000e-03,  1.05505169e-03, -2.81982776e-03,\n",
       "        6.26723096e-02, -4.57265675e-02,  1.70462877e-02, -8.05483162e-02,\n",
       "        1.55107807e-02, -2.58711661e-04,  2.01547276e-02,  8.79565068e-03,\n",
       "        2.62557846e-02,  8.31562385e-04, -3.23720016e-02, -5.27925603e-02,\n",
       "        1.55638680e-02,  1.15739089e-02, -2.99575040e-03, -8.24663788e-03,\n",
       "       -3.26189138e-02, -7.73414597e-02, -4.12966944e-02, -2.21012570e-02,\n",
       "        4.75402828e-03, -1.25991041e-02,  1.07523538e-02,  4.99581657e-02,\n",
       "        2.15218812e-02,  2.69317944e-02,  3.28038894e-02,  7.46345147e-03,\n",
       "        1.83876902e-02, -2.74957772e-02, -9.13319178e-03, -1.22790448e-02,\n",
       "        2.07576193e-02,  1.40681854e-02,  1.09913824e-02, -2.26452295e-02,\n",
       "        6.41365945e-02, -1.79608297e-02, -4.23230492e-02, -1.88530446e-03,\n",
       "       -3.59299891e-02,  1.20294318e-02,  1.00361360e-02,  6.56100512e-02,\n",
       "        2.87165996e-02,  2.78465226e-02, -5.23849875e-02,  3.18163037e-02,\n",
       "       -4.65675965e-02,  1.38317067e-02,  2.83224564e-02,  7.78382039e-03,\n",
       "       -9.74422507e-03, -3.97435762e-02, -2.49803960e-02, -2.32911278e-02,\n",
       "       -2.11589038e-02, -6.84602931e-03, -1.95434690e-02, -2.29272041e-02,\n",
       "       -1.46510219e-02, -2.22448800e-02, -1.09536527e-02, -3.67134400e-02,\n",
       "       -1.84324663e-02, -1.04103079e-02, -8.88101105e-03, -1.47620523e-02,\n",
       "       -2.92523894e-02,  1.00569651e-02,  2.28201374e-02,  1.42327184e-03,\n",
       "       -2.35474743e-02, -2.39605289e-02,  5.40141128e-02, -2.16813292e-02,\n",
       "        1.94904730e-02, -3.11479066e-02, -1.54089881e-02, -1.45635931e-02,\n",
       "        5.81609830e-02,  3.05503402e-02, -5.09663625e-03, -1.68099571e-02,\n",
       "       -3.46655361e-02, -2.07241401e-02, -4.60087508e-02,  2.22174148e-03,\n",
       "       -4.44852635e-02,  1.13986572e-02,  3.25434506e-02, -7.11341351e-02,\n",
       "       -2.52612736e-02, -1.93929002e-02,  1.29123619e-02, -3.82378586e-02,\n",
       "       -1.61821116e-02,  3.58506851e-02,  5.04317284e-02, -4.06110659e-03,\n",
       "        1.62504464e-02, -7.24662542e-02,  2.72172000e-02,  1.78223494e-02,\n",
       "        1.37029039e-02,  2.36819778e-02,  2.59892847e-02,  4.08842601e-02,\n",
       "        6.46982156e-03, -1.15187764e-02, -2.65878811e-02,  9.67550930e-03,\n",
       "       -5.31226061e-02,  8.27150885e-04,  1.87266115e-02, -2.92988610e-03,\n",
       "        2.49405000e-02, -1.47512518e-02,  1.41259236e-02,  4.05030325e-02,\n",
       "       -1.27288513e-02, -6.76722527e-02,  4.83829528e-02,  4.07700390e-02,\n",
       "        1.98605303e-02,  3.03293932e-02,  2.63720937e-02,  5.23594357e-02,\n",
       "       -3.34631242e-02, -9.35077388e-03,  1.69177558e-02,  4.34683636e-02,\n",
       "        3.83584835e-02,  4.47562449e-02,  1.90879237e-02, -1.47993593e-02,\n",
       "       -4.34137182e-03,  1.08403396e-02,  4.95932903e-03, -1.63312294e-02,\n",
       "       -1.97148160e-03, -4.17675115e-02,  6.56750873e-02, -6.79403171e-02,\n",
       "        4.33396222e-03, -1.69463288e-02,  2.51759049e-02,  2.56763790e-02,\n",
       "        1.15081819e-03, -1.54735418e-02, -7.34513439e-03, -5.32572754e-02,\n",
       "        3.48775974e-03, -1.38180405e-02, -5.89082129e-02,  2.92865466e-03,\n",
       "        5.04819043e-02,  3.35813081e-03, -8.88556316e-02, -3.84001024e-02,\n",
       "       -2.22147852e-02, -2.82134265e-02, -5.42565063e-03,  2.85600629e-02,\n",
       "       -4.50810678e-02,  7.93271931e-04,  8.93172249e-02,  1.16105061e-02,\n",
       "       -3.18008624e-02,  2.66568139e-02,  2.71802712e-02,  1.89267434e-02,\n",
       "       -2.06058472e-02, -3.02396640e-02, -2.85009667e-02, -3.13029774e-02,\n",
       "       -1.97963081e-02, -6.64772978e-03, -1.67978276e-02, -1.99807789e-02,\n",
       "       -5.34575805e-02, -4.45691025e-04, -2.96823028e-02,  4.37867381e-02,\n",
       "       -1.00504002e-02, -1.09997410e-02,  2.21026279e-02, -3.46548930e-02,\n",
       "        2.11835746e-02,  1.56232687e-02,  2.64695361e-02, -2.34831516e-02,\n",
       "        2.44938117e-02,  4.38888483e-02,  7.06146704e-03, -1.21593354e-02,\n",
       "        1.87902339e-02, -6.91951020e-03,  1.30047482e-02,  1.27161061e-02,\n",
       "       -2.23635416e-03,  2.10030675e-02,  6.99695721e-02,  3.16451974e-02,\n",
       "       -2.35833172e-02,  4.63551981e-03, -6.60421327e-03, -3.26112323e-02,\n",
       "        7.33723640e-02, -8.55090991e-02, -4.05770428e-02,  2.57487390e-02,\n",
       "       -5.12588657e-02,  6.70370162e-02, -1.24506066e-02, -8.91838446e-02,\n",
       "        5.48583232e-02, -4.54949923e-02, -3.45565155e-02, -7.73074850e-02,\n",
       "        4.11657728e-02, -4.30639535e-02,  2.70703062e-02,  3.20439860e-02,\n",
       "       -4.77702059e-02, -1.56586170e-02,  1.72707047e-02, -5.23967221e-02,\n",
       "       -7.17989579e-02,  4.30010585e-03,  7.25752689e-05,  5.29346913e-02,\n",
       "       -3.14253271e-02,  1.90561004e-02,  2.56206449e-02,  7.90969878e-02,\n",
       "        2.13809479e-02, -2.44315583e-02, -1.42572904e-02,  3.64166945e-02,\n",
       "        4.89886813e-02,  2.09607687e-02, -4.13178988e-02,  4.09340709e-02,\n",
       "       -1.21459812e-01,  6.68874681e-02, -3.10818490e-04, -6.26350287e-03,\n",
       "        3.98600399e-02,  5.48594780e-02, -1.15817979e-01,  5.31956479e-02,\n",
       "       -4.32696566e-02,  4.33376320e-02,  2.90152542e-02, -8.89771730e-02,\n",
       "       -2.17882283e-02,  1.54281259e-02,  3.62119824e-02, -9.14942175e-02,\n",
       "       -3.93840950e-03, -3.60860415e-02, -7.26094889e-03,  8.90838169e-03,\n",
       "       -5.32953665e-02,  3.61572951e-02,  8.56206343e-02, -1.42062111e-02,\n",
       "        2.44349018e-02,  1.94476324e-03,  5.81037812e-02, -2.16630846e-02,\n",
       "        2.43256316e-02, -2.31526350e-03, -1.37544121e-03,  5.89746274e-02,\n",
       "        8.06517340e-03, -5.71867311e-03,  2.14907620e-02, -2.76927166e-02,\n",
       "       -3.97252664e-02,  3.13828029e-02,  1.40225887e-03,  5.06811216e-02],\n",
       "      dtype=float32)"
      ]
     },
     "execution_count": 11,
     "metadata": {},
     "output_type": "execute_result"
    }
   ],
   "source": [
    "embed_vector"
   ]
  },
  {
   "cell_type": "code",
   "execution_count": 9,
   "id": "699d92b6-5ea0-41fa-b744-539c40071e57",
   "metadata": {},
   "outputs": [
    {
     "data": {
      "text/plain": [
       "768"
      ]
     },
     "execution_count": 9,
     "metadata": {},
     "output_type": "execute_result"
    }
   ],
   "source": [
    "len(embed_vector)"
   ]
  },
  {
   "cell_type": "code",
   "execution_count": 12,
   "id": "4ba71292-d9f7-486a-af5f-4ba764f1ef24",
   "metadata": {},
   "outputs": [],
   "source": [
    "import requests \n",
    "\n",
    "base_url = 'https://github.com/DataTalksClub/llm-zoomcamp/blob/main'\n",
    "relative_url = '03-vector-search/eval/documents-with-ids.json'\n",
    "docs_url = f'{base_url}/{relative_url}?raw=1'\n",
    "docs_response = requests.get(docs_url)\n",
    "documents = docs_response.json()"
   ]
  },
  {
   "cell_type": "code",
   "execution_count": 28,
   "id": "db23bc2f-73c8-4570-93c3-37e6da665dfa",
   "metadata": {},
   "outputs": [
    {
     "data": {
      "text/plain": [
       "{'text': \"The purpose of this document is to capture frequently asked technical questions\\nThe exact day and hour of the course will be 15th Jan 2024 at 17h00. The course will start with the first  “Office Hours'' live.1\\nSubscribe to course public Google Calendar (it works from Desktop only).\\nRegister before the course starts using this link.\\nJoin the course Telegram channel with announcements.\\nDon’t forget to register in DataTalks.Club's Slack and join the channel.\",\n",
       " 'section': 'General course-related questions',\n",
       " 'question': 'Course - When will the course start?',\n",
       " 'course': 'data-engineering-zoomcamp',\n",
       " 'id': 'c02e79ef'}"
      ]
     },
     "execution_count": 28,
     "metadata": {},
     "output_type": "execute_result"
    }
   ],
   "source": [
    "documents[0]\n"
   ]
  },
  {
   "cell_type": "code",
   "execution_count": 30,
   "id": "7dc139cd-9dae-4e86-b778-c95298e7b92f",
   "metadata": {},
   "outputs": [
    {
     "ename": "SyntaxError",
     "evalue": "invalid syntax (229729442.py, line 1)",
     "output_type": "error",
     "traceback": [
      "\u001b[0;36m  Cell \u001b[0;32mIn[30], line 1\u001b[0;36m\u001b[0m\n\u001b[0;31m    qa_text = documents[0]['question'] documents[0]['text']\u001b[0m\n\u001b[0m                                       ^\u001b[0m\n\u001b[0;31mSyntaxError\u001b[0m\u001b[0;31m:\u001b[0m invalid syntax\n"
     ]
    }
   ],
   "source": [
    "\n"
   ]
  },
  {
   "cell_type": "code",
   "execution_count": 23,
   "id": "eb91ad4f-9847-4171-88d7-162d42bc7bf4",
   "metadata": {},
   "outputs": [
    {
     "data": {
      "text/plain": [
       "375"
      ]
     },
     "execution_count": 23,
     "metadata": {},
     "output_type": "execute_result"
    }
   ],
   "source": [
    "ml_documents = []\n",
    "for document in documents:\n",
    "    if(document['course'] == 'machine-learning-zoomcamp'):\n",
    "        ml_documents.append(document)\n",
    "\n",
    "len(ml_documents)"
   ]
  },
  {
   "cell_type": "code",
   "execution_count": 34,
   "id": "61abbf46-d5e6-40d2-8611-9735c9f6d417",
   "metadata": {},
   "outputs": [],
   "source": [
    "from tqdm import tqdm"
   ]
  },
  {
   "cell_type": "code",
   "execution_count": 35,
   "id": "2fa7c29c-9762-4b6b-9f83-81bd2154bcb4",
   "metadata": {},
   "outputs": [
    {
     "name": "stderr",
     "output_type": "stream",
     "text": [
      "100%|█████████████████████████████████████████████████████████████████████████████████████████████████████████████████████| 375/375 [01:03<00:00,  5.95it/s]\n"
     ]
    }
   ],
   "source": [
    "embeddings = []\n",
    "for document in tqdm(ml_documents):\n",
    "    question = document['question']\n",
    "    text = document['text']\n",
    "    qa_text = f'{question} {text}'\n",
    "    q_t_vector = embedding_model.encode(qa_text)\n",
    "    embeddings.append(q_t_vector)\n"
   ]
  },
  {
   "cell_type": "code",
   "execution_count": 36,
   "id": "e88fee70-99aa-4a78-9c6b-06131f8f59f6",
   "metadata": {},
   "outputs": [],
   "source": [
    "import numpy as np"
   ]
  },
  {
   "cell_type": "code",
   "execution_count": 37,
   "id": "ddd81493-7aed-4069-940b-23a403cc414c",
   "metadata": {},
   "outputs": [],
   "source": [
    "X = np.array(embeddings)"
   ]
  },
  {
   "cell_type": "code",
   "execution_count": 39,
   "id": "943be230-398a-436f-9b04-26e21b99503d",
   "metadata": {},
   "outputs": [
    {
     "name": "stdout",
     "output_type": "stream",
     "text": [
      "(375, 768)\n"
     ]
    }
   ],
   "source": [
    "shape_of_X = X.shape\n",
    "\n",
    "print(shape_of_X) "
   ]
  },
  {
   "cell_type": "code",
   "execution_count": 45,
   "id": "6e60af93-bc54-4090-95fe-a27038e6abb5",
   "metadata": {},
   "outputs": [],
   "source": [
    "scores = X.dot(embed_vector)"
   ]
  },
  {
   "cell_type": "code",
   "execution_count": 48,
   "id": "60f29f7f-e8a0-4753-ace1-3305d95b9c8f",
   "metadata": {},
   "outputs": [
    {
     "name": "stdout",
     "output_type": "stream",
     "text": [
      "The highest value : 0.6506572961807251\n"
     ]
    }
   ],
   "source": [
    "import numpy as np\n",
    "\n",
    "def find_highest_score(values):\n",
    "    # Find the highest score in the array\n",
    "    highest_score = np.max(values)\n",
    "    \n",
    "    # Return the highest score\n",
    "    return highest_score\n",
    "\n",
    "\n",
    "highest_value = find_highest_score(scores)\n",
    "print(f\"The highest value : {highest_value}\")"
   ]
  },
  {
   "cell_type": "code",
   "execution_count": 51,
   "id": "cd1a1b3b-d866-42ea-90c3-6b8150d67d77",
   "metadata": {},
   "outputs": [
    {
     "data": {
      "text/plain": [
       "[{'text': 'Yes, you can. You won’t be able to submit some of the homeworks, but you can still take part in the course.\\nIn order to get a certificate, you need to submit 2 out of 3 course projects and review 3 peers’ Projects by the deadline. It means that if you join the course at the end of November and manage to work on two projects, you will still be eligible for a certificate.',\n",
       "  'section': 'General course-related questions',\n",
       "  'question': 'The course has already started. Can I still join it?',\n",
       "  'course': 'machine-learning-zoomcamp',\n",
       "  'id': 'ee58a693'},\n",
       " {'text': 'Welcome to the course! Go to the course page (http://mlzoomcamp.com/), scroll down and start going through the course materials. Then read everything in the cohort folder for your cohort’s year.\\nClick on the links and start watching the videos. Also watch office hours from previous cohorts. Go to DTC youtube channel and click on Playlists and search for {course yyyy}. ML Zoomcamp was first launched in 2021.\\nOr you can just use this link: http://mlzoomcamp.com/#syllabus',\n",
       "  'section': 'General course-related questions',\n",
       "  'question': 'I just joined. What should I do next? How can I access course materials?',\n",
       "  'course': 'machine-learning-zoomcamp',\n",
       "  'id': '0a278fb2'},\n",
       " {'text': \"The process is automated now, so you should receive the email eventually. If you haven’t, check your promotions tab in Gmail as well as spam.\\nIf you unsubscribed from our newsletter, you won't get course related updates too.\\nBut don't worry, it’s not a problem. To make sure you don’t miss anything, join the #course-ml-zoomcamp channel in Slack and our telegram channel with announcements. This is enough to follow the course.\",\n",
       "  'section': 'General course-related questions',\n",
       "  'question': \"I filled the form, but haven't received a confirmation email. Is it normal?\",\n",
       "  'course': 'machine-learning-zoomcamp',\n",
       "  'id': '6ba259b1'},\n",
       " {'text': 'Technically, yes. Advisable? Not really. Reasons:\\nSome homework(s) asks for specific python library versions.\\nAnswers may not match in MCQ options if using different languages other than Python 3.10 (the recommended version for 2023 cohort)\\nAnd as for midterms/capstones, your peer-reviewers may not know these other languages. Do you want to be penalized for others not knowing these other languages?\\nYou can create a separate repo using course’s lessons but written in other languages for your own learnings, but not advisable for submissions.\\ntx[source]',\n",
       "  'section': 'Miscellaneous',\n",
       "  'question': 'Can I do the course in other languages, like R or Scala?',\n",
       "  'course': 'machine-learning-zoomcamp',\n",
       "  'id': '9f261648'},\n",
       " {'text': 'We won’t re-record the course videos. The focus of the course and the skills we want to teach remained the same, and the videos are still up-to-date.\\nIf you haven’t taken part in the previous iteration, you can start watching the videos. It’ll be useful for you and you will learn new things. However, we recommend using Python 3.10 now instead of Python 3.8.',\n",
       "  'section': 'General course-related questions',\n",
       "  'question': 'The course videos are from the previous iteration. Will you release new ones or we’ll use the videos from 2021?',\n",
       "  'course': 'machine-learning-zoomcamp',\n",
       "  'id': 'e7ba6b8a'}]"
      ]
     },
     "execution_count": 51,
     "metadata": {},
     "output_type": "execute_result"
    }
   ],
   "source": [
    "class VectorSearchEngine():\n",
    "    def __init__(self, documents, embeddings):\n",
    "        self.documents = documents\n",
    "        self.embeddings = embeddings\n",
    "\n",
    "    def search(self, v_query, num_results=10):\n",
    "        scores = self.embeddings.dot(v_query)\n",
    "        idx = np.argsort(-scores)[:num_results]\n",
    "        return [self.documents[i] for i in idx]\n",
    "\n",
    "search_engine = VectorSearchEngine(documents=ml_documents, embeddings=X)\n",
    "search_engine.search(embed_vector, num_results=5)"
   ]
  },
  {
   "cell_type": "code",
   "execution_count": 52,
   "id": "bc298c5b-2b59-4ee2-b667-ce9769f42aef",
   "metadata": {},
   "outputs": [],
   "source": [
    "import pandas as pd\n",
    "\n",
    "base_url = 'https://github.com/DataTalksClub/llm-zoomcamp/blob/main'\n",
    "relative_url = '03-vector-search/eval/ground-truth-data.csv'\n",
    "ground_truth_url = f'{base_url}/{relative_url}?raw=1'\n",
    "\n",
    "df_ground_truth = pd.read_csv(ground_truth_url)\n",
    "df_ground_truth = df_ground_truth[df_ground_truth.course == 'machine-learning-zoomcamp']\n",
    "ground_truth = df_ground_truth.to_dict(orient='records')"
   ]
  },
  {
   "cell_type": "code",
   "execution_count": 55,
   "id": "61e669c9-9086-480a-ad63-4462b622fb1a",
   "metadata": {},
   "outputs": [
    {
     "data": {
      "text/plain": [
       "{'question': 'Where can I sign up for the course?',\n",
       " 'course': 'machine-learning-zoomcamp',\n",
       " 'document': '0227b872'}"
      ]
     },
     "execution_count": 55,
     "metadata": {},
     "output_type": "execute_result"
    }
   ],
   "source": [
    "ground_truth[0]"
   ]
  },
  {
   "cell_type": "code",
   "execution_count": 54,
   "id": "dec2a36a-6699-49e2-b81a-cf45f6467026",
   "metadata": {},
   "outputs": [],
   "source": [
    "def hit_rate(relevance_total):\n",
    "    cnt = 0\n",
    "\n",
    "    for line in relevance_total:\n",
    "        if True in line:\n",
    "            cnt = cnt + 1\n",
    "\n",
    "    return cnt / len(relevance_total)"
   ]
  },
  {
   "cell_type": "code",
   "execution_count": 56,
   "id": "22eb9283-9ac0-4882-8c64-71d3094cbea8",
   "metadata": {},
   "outputs": [],
   "source": [
    "def evaluate():\n",
    "    relevance_total = []\n",
    "\n",
    "    for q in tqdm(ground_truth):\n",
    "        doc_id = q['document']\n",
    "        q_vector = embedding_model.encode(q['question'])\n",
    "        search_engine = VectorSearchEngine(documents=ml_documents, embeddings=X)\n",
    "        results = search_engine.search(q_vector, num_results=5)\n",
    "    \n",
    "        relevance = [d['id'] == doc_id for d in results]\n",
    "        relevance_total.append(relevance)\n",
    "\n",
    "    return {\n",
    "        'hit_rate': hit_rate(relevance_total),\n",
    "        \n",
    "    }"
   ]
  },
  {
   "cell_type": "code",
   "execution_count": 57,
   "id": "d9b2c092-8bc8-455d-bcda-fa7947e40664",
   "metadata": {},
   "outputs": [
    {
     "name": "stderr",
     "output_type": "stream",
     "text": [
      "100%|███████████████████████████████████████████████████████████████████████████████████████████████████████████████████| 1830/1830 [01:24<00:00, 21.54it/s]\n"
     ]
    },
    {
     "data": {
      "text/plain": [
       "{'hit_rate': 0.9398907103825137}"
      ]
     },
     "execution_count": 57,
     "metadata": {},
     "output_type": "execute_result"
    }
   ],
   "source": [
    "evaluate()"
   ]
  },
  {
   "cell_type": "code",
   "execution_count": 58,
   "id": "441a6b38-7f78-4e83-8b1e-cc3595594942",
   "metadata": {},
   "outputs": [
    {
     "ename": "ConnectionError",
     "evalue": "Connection error caused by: ConnectionError(Connection error caused by: NewConnectionError(<urllib3.connection.HTTPConnection object at 0x72c6ed9fa680>: Failed to establish a new connection: [Errno 111] Connection refused))",
     "output_type": "error",
     "traceback": [
      "\u001b[0;31m---------------------------------------------------------------------------\u001b[0m",
      "\u001b[0;31mConnectionError\u001b[0m                           Traceback (most recent call last)",
      "Cell \u001b[0;32mIn[58], line 41\u001b[0m\n\u001b[1;32m      5\u001b[0m index_settings \u001b[38;5;241m=\u001b[39m {\n\u001b[1;32m      6\u001b[0m     \u001b[38;5;124m\"\u001b[39m\u001b[38;5;124msettings\u001b[39m\u001b[38;5;124m\"\u001b[39m: {\n\u001b[1;32m      7\u001b[0m         \u001b[38;5;124m\"\u001b[39m\u001b[38;5;124mnumber_of_shards\u001b[39m\u001b[38;5;124m\"\u001b[39m: \u001b[38;5;241m1\u001b[39m,\n\u001b[0;32m   (...)\u001b[0m\n\u001b[1;32m     36\u001b[0m     }\n\u001b[1;32m     37\u001b[0m }\n\u001b[1;32m     39\u001b[0m index_name \u001b[38;5;241m=\u001b[39m \u001b[38;5;124m\"\u001b[39m\u001b[38;5;124mcourse-questions\u001b[39m\u001b[38;5;124m\"\u001b[39m\n\u001b[0;32m---> 41\u001b[0m \u001b[43mes_client\u001b[49m\u001b[38;5;241;43m.\u001b[39;49m\u001b[43mindices\u001b[49m\u001b[38;5;241;43m.\u001b[39;49m\u001b[43mdelete\u001b[49m\u001b[43m(\u001b[49m\u001b[43mindex\u001b[49m\u001b[38;5;241;43m=\u001b[39;49m\u001b[43mindex_name\u001b[49m\u001b[43m,\u001b[49m\u001b[43m \u001b[49m\u001b[43mignore_unavailable\u001b[49m\u001b[38;5;241;43m=\u001b[39;49m\u001b[38;5;28;43;01mTrue\u001b[39;49;00m\u001b[43m)\u001b[49m\n\u001b[1;32m     42\u001b[0m es_client\u001b[38;5;241m.\u001b[39mindices\u001b[38;5;241m.\u001b[39mcreate(index\u001b[38;5;241m=\u001b[39mindex_name, body\u001b[38;5;241m=\u001b[39mindex_settings)\n",
      "File \u001b[0;32m/usr/local/python/3.10.13/lib/python3.10/site-packages/elasticsearch/_sync/client/utils.py:446\u001b[0m, in \u001b[0;36m_rewrite_parameters.<locals>.wrapper.<locals>.wrapped\u001b[0;34m(*args, **kwargs)\u001b[0m\n\u001b[1;32m    443\u001b[0m         \u001b[38;5;28;01mexcept\u001b[39;00m \u001b[38;5;167;01mKeyError\u001b[39;00m:\n\u001b[1;32m    444\u001b[0m             \u001b[38;5;28;01mpass\u001b[39;00m\n\u001b[0;32m--> 446\u001b[0m \u001b[38;5;28;01mreturn\u001b[39;00m \u001b[43mapi\u001b[49m\u001b[43m(\u001b[49m\u001b[38;5;241;43m*\u001b[39;49m\u001b[43margs\u001b[49m\u001b[43m,\u001b[49m\u001b[43m \u001b[49m\u001b[38;5;241;43m*\u001b[39;49m\u001b[38;5;241;43m*\u001b[39;49m\u001b[43mkwargs\u001b[49m\u001b[43m)\u001b[49m\n",
      "File \u001b[0;32m/usr/local/python/3.10.13/lib/python3.10/site-packages/elasticsearch/_sync/client/indices.py:736\u001b[0m, in \u001b[0;36mIndicesClient.delete\u001b[0;34m(self, index, allow_no_indices, error_trace, expand_wildcards, filter_path, human, ignore_unavailable, master_timeout, pretty, timeout)\u001b[0m\n\u001b[1;32m    734\u001b[0m     __query[\u001b[38;5;124m\"\u001b[39m\u001b[38;5;124mtimeout\u001b[39m\u001b[38;5;124m\"\u001b[39m] \u001b[38;5;241m=\u001b[39m timeout\n\u001b[1;32m    735\u001b[0m __headers \u001b[38;5;241m=\u001b[39m {\u001b[38;5;124m\"\u001b[39m\u001b[38;5;124maccept\u001b[39m\u001b[38;5;124m\"\u001b[39m: \u001b[38;5;124m\"\u001b[39m\u001b[38;5;124mapplication/json\u001b[39m\u001b[38;5;124m\"\u001b[39m}\n\u001b[0;32m--> 736\u001b[0m \u001b[38;5;28;01mreturn\u001b[39;00m \u001b[38;5;28;43mself\u001b[39;49m\u001b[38;5;241;43m.\u001b[39;49m\u001b[43mperform_request\u001b[49m\u001b[43m(\u001b[49m\u001b[43m  \u001b[49m\u001b[38;5;66;43;03m# type: ignore[return-value]\u001b[39;49;00m\n\u001b[1;32m    737\u001b[0m \u001b[43m    \u001b[49m\u001b[38;5;124;43m\"\u001b[39;49m\u001b[38;5;124;43mDELETE\u001b[39;49m\u001b[38;5;124;43m\"\u001b[39;49m\u001b[43m,\u001b[49m\n\u001b[1;32m    738\u001b[0m \u001b[43m    \u001b[49m\u001b[43m__path\u001b[49m\u001b[43m,\u001b[49m\n\u001b[1;32m    739\u001b[0m \u001b[43m    \u001b[49m\u001b[43mparams\u001b[49m\u001b[38;5;241;43m=\u001b[39;49m\u001b[43m__query\u001b[49m\u001b[43m,\u001b[49m\n\u001b[1;32m    740\u001b[0m \u001b[43m    \u001b[49m\u001b[43mheaders\u001b[49m\u001b[38;5;241;43m=\u001b[39;49m\u001b[43m__headers\u001b[49m\u001b[43m,\u001b[49m\n\u001b[1;32m    741\u001b[0m \u001b[43m    \u001b[49m\u001b[43mendpoint_id\u001b[49m\u001b[38;5;241;43m=\u001b[39;49m\u001b[38;5;124;43m\"\u001b[39;49m\u001b[38;5;124;43mindices.delete\u001b[39;49m\u001b[38;5;124;43m\"\u001b[39;49m\u001b[43m,\u001b[49m\n\u001b[1;32m    742\u001b[0m \u001b[43m    \u001b[49m\u001b[43mpath_parts\u001b[49m\u001b[38;5;241;43m=\u001b[39;49m\u001b[43m__path_parts\u001b[49m\u001b[43m,\u001b[49m\n\u001b[1;32m    743\u001b[0m \u001b[43m\u001b[49m\u001b[43m)\u001b[49m\n",
      "File \u001b[0;32m/usr/local/python/3.10.13/lib/python3.10/site-packages/elasticsearch/_sync/client/_base.py:423\u001b[0m, in \u001b[0;36mNamespacedClient.perform_request\u001b[0;34m(self, method, path, params, headers, body, endpoint_id, path_parts)\u001b[0m\n\u001b[1;32m    410\u001b[0m \u001b[38;5;28;01mdef\u001b[39;00m \u001b[38;5;21mperform_request\u001b[39m(\n\u001b[1;32m    411\u001b[0m     \u001b[38;5;28mself\u001b[39m,\n\u001b[1;32m    412\u001b[0m     method: \u001b[38;5;28mstr\u001b[39m,\n\u001b[0;32m   (...)\u001b[0m\n\u001b[1;32m    421\u001b[0m     \u001b[38;5;66;03m# Use the internal clients .perform_request() implementation\u001b[39;00m\n\u001b[1;32m    422\u001b[0m     \u001b[38;5;66;03m# so we take advantage of their transport options.\u001b[39;00m\n\u001b[0;32m--> 423\u001b[0m     \u001b[38;5;28;01mreturn\u001b[39;00m \u001b[38;5;28;43mself\u001b[39;49m\u001b[38;5;241;43m.\u001b[39;49m\u001b[43m_client\u001b[49m\u001b[38;5;241;43m.\u001b[39;49m\u001b[43mperform_request\u001b[49m\u001b[43m(\u001b[49m\n\u001b[1;32m    424\u001b[0m \u001b[43m        \u001b[49m\u001b[43mmethod\u001b[49m\u001b[43m,\u001b[49m\n\u001b[1;32m    425\u001b[0m \u001b[43m        \u001b[49m\u001b[43mpath\u001b[49m\u001b[43m,\u001b[49m\n\u001b[1;32m    426\u001b[0m \u001b[43m        \u001b[49m\u001b[43mparams\u001b[49m\u001b[38;5;241;43m=\u001b[39;49m\u001b[43mparams\u001b[49m\u001b[43m,\u001b[49m\n\u001b[1;32m    427\u001b[0m \u001b[43m        \u001b[49m\u001b[43mheaders\u001b[49m\u001b[38;5;241;43m=\u001b[39;49m\u001b[43mheaders\u001b[49m\u001b[43m,\u001b[49m\n\u001b[1;32m    428\u001b[0m \u001b[43m        \u001b[49m\u001b[43mbody\u001b[49m\u001b[38;5;241;43m=\u001b[39;49m\u001b[43mbody\u001b[49m\u001b[43m,\u001b[49m\n\u001b[1;32m    429\u001b[0m \u001b[43m        \u001b[49m\u001b[43mendpoint_id\u001b[49m\u001b[38;5;241;43m=\u001b[39;49m\u001b[43mendpoint_id\u001b[49m\u001b[43m,\u001b[49m\n\u001b[1;32m    430\u001b[0m \u001b[43m        \u001b[49m\u001b[43mpath_parts\u001b[49m\u001b[38;5;241;43m=\u001b[39;49m\u001b[43mpath_parts\u001b[49m\u001b[43m,\u001b[49m\n\u001b[1;32m    431\u001b[0m \u001b[43m    \u001b[49m\u001b[43m)\u001b[49m\n",
      "File \u001b[0;32m/usr/local/python/3.10.13/lib/python3.10/site-packages/elasticsearch/_sync/client/_base.py:271\u001b[0m, in \u001b[0;36mBaseClient.perform_request\u001b[0;34m(self, method, path, params, headers, body, endpoint_id, path_parts)\u001b[0m\n\u001b[1;32m    255\u001b[0m \u001b[38;5;28;01mdef\u001b[39;00m \u001b[38;5;21mperform_request\u001b[39m(\n\u001b[1;32m    256\u001b[0m     \u001b[38;5;28mself\u001b[39m,\n\u001b[1;32m    257\u001b[0m     method: \u001b[38;5;28mstr\u001b[39m,\n\u001b[0;32m   (...)\u001b[0m\n\u001b[1;32m    264\u001b[0m     path_parts: Optional[Mapping[\u001b[38;5;28mstr\u001b[39m, Any]] \u001b[38;5;241m=\u001b[39m \u001b[38;5;28;01mNone\u001b[39;00m,\n\u001b[1;32m    265\u001b[0m ) \u001b[38;5;241m-\u001b[39m\u001b[38;5;241m>\u001b[39m ApiResponse[Any]:\n\u001b[1;32m    266\u001b[0m     \u001b[38;5;28;01mwith\u001b[39;00m \u001b[38;5;28mself\u001b[39m\u001b[38;5;241m.\u001b[39m_otel\u001b[38;5;241m.\u001b[39mspan(\n\u001b[1;32m    267\u001b[0m         method,\n\u001b[1;32m    268\u001b[0m         endpoint_id\u001b[38;5;241m=\u001b[39mendpoint_id,\n\u001b[1;32m    269\u001b[0m         path_parts\u001b[38;5;241m=\u001b[39mpath_parts \u001b[38;5;129;01mor\u001b[39;00m {},\n\u001b[1;32m    270\u001b[0m     ) \u001b[38;5;28;01mas\u001b[39;00m otel_span:\n\u001b[0;32m--> 271\u001b[0m         response \u001b[38;5;241m=\u001b[39m \u001b[38;5;28;43mself\u001b[39;49m\u001b[38;5;241;43m.\u001b[39;49m\u001b[43m_perform_request\u001b[49m\u001b[43m(\u001b[49m\n\u001b[1;32m    272\u001b[0m \u001b[43m            \u001b[49m\u001b[43mmethod\u001b[49m\u001b[43m,\u001b[49m\n\u001b[1;32m    273\u001b[0m \u001b[43m            \u001b[49m\u001b[43mpath\u001b[49m\u001b[43m,\u001b[49m\n\u001b[1;32m    274\u001b[0m \u001b[43m            \u001b[49m\u001b[43mparams\u001b[49m\u001b[38;5;241;43m=\u001b[39;49m\u001b[43mparams\u001b[49m\u001b[43m,\u001b[49m\n\u001b[1;32m    275\u001b[0m \u001b[43m            \u001b[49m\u001b[43mheaders\u001b[49m\u001b[38;5;241;43m=\u001b[39;49m\u001b[43mheaders\u001b[49m\u001b[43m,\u001b[49m\n\u001b[1;32m    276\u001b[0m \u001b[43m            \u001b[49m\u001b[43mbody\u001b[49m\u001b[38;5;241;43m=\u001b[39;49m\u001b[43mbody\u001b[49m\u001b[43m,\u001b[49m\n\u001b[1;32m    277\u001b[0m \u001b[43m            \u001b[49m\u001b[43motel_span\u001b[49m\u001b[38;5;241;43m=\u001b[39;49m\u001b[43motel_span\u001b[49m\u001b[43m,\u001b[49m\n\u001b[1;32m    278\u001b[0m \u001b[43m        \u001b[49m\u001b[43m)\u001b[49m\n\u001b[1;32m    279\u001b[0m         otel_span\u001b[38;5;241m.\u001b[39mset_elastic_cloud_metadata(response\u001b[38;5;241m.\u001b[39mmeta\u001b[38;5;241m.\u001b[39mheaders)\n\u001b[1;32m    280\u001b[0m         \u001b[38;5;28;01mreturn\u001b[39;00m response\n",
      "File \u001b[0;32m/usr/local/python/3.10.13/lib/python3.10/site-packages/elasticsearch/_sync/client/_base.py:316\u001b[0m, in \u001b[0;36mBaseClient._perform_request\u001b[0;34m(self, method, path, params, headers, body, otel_span)\u001b[0m\n\u001b[1;32m    313\u001b[0m \u001b[38;5;28;01melse\u001b[39;00m:\n\u001b[1;32m    314\u001b[0m     target \u001b[38;5;241m=\u001b[39m path\n\u001b[0;32m--> 316\u001b[0m meta, resp_body \u001b[38;5;241m=\u001b[39m \u001b[38;5;28;43mself\u001b[39;49m\u001b[38;5;241;43m.\u001b[39;49m\u001b[43mtransport\u001b[49m\u001b[38;5;241;43m.\u001b[39;49m\u001b[43mperform_request\u001b[49m\u001b[43m(\u001b[49m\n\u001b[1;32m    317\u001b[0m \u001b[43m    \u001b[49m\u001b[43mmethod\u001b[49m\u001b[43m,\u001b[49m\n\u001b[1;32m    318\u001b[0m \u001b[43m    \u001b[49m\u001b[43mtarget\u001b[49m\u001b[43m,\u001b[49m\n\u001b[1;32m    319\u001b[0m \u001b[43m    \u001b[49m\u001b[43mheaders\u001b[49m\u001b[38;5;241;43m=\u001b[39;49m\u001b[43mrequest_headers\u001b[49m\u001b[43m,\u001b[49m\n\u001b[1;32m    320\u001b[0m \u001b[43m    \u001b[49m\u001b[43mbody\u001b[49m\u001b[38;5;241;43m=\u001b[39;49m\u001b[43mbody\u001b[49m\u001b[43m,\u001b[49m\n\u001b[1;32m    321\u001b[0m \u001b[43m    \u001b[49m\u001b[43mrequest_timeout\u001b[49m\u001b[38;5;241;43m=\u001b[39;49m\u001b[38;5;28;43mself\u001b[39;49m\u001b[38;5;241;43m.\u001b[39;49m\u001b[43m_request_timeout\u001b[49m\u001b[43m,\u001b[49m\n\u001b[1;32m    322\u001b[0m \u001b[43m    \u001b[49m\u001b[43mmax_retries\u001b[49m\u001b[38;5;241;43m=\u001b[39;49m\u001b[38;5;28;43mself\u001b[39;49m\u001b[38;5;241;43m.\u001b[39;49m\u001b[43m_max_retries\u001b[49m\u001b[43m,\u001b[49m\n\u001b[1;32m    323\u001b[0m \u001b[43m    \u001b[49m\u001b[43mretry_on_status\u001b[49m\u001b[38;5;241;43m=\u001b[39;49m\u001b[38;5;28;43mself\u001b[39;49m\u001b[38;5;241;43m.\u001b[39;49m\u001b[43m_retry_on_status\u001b[49m\u001b[43m,\u001b[49m\n\u001b[1;32m    324\u001b[0m \u001b[43m    \u001b[49m\u001b[43mretry_on_timeout\u001b[49m\u001b[38;5;241;43m=\u001b[39;49m\u001b[38;5;28;43mself\u001b[39;49m\u001b[38;5;241;43m.\u001b[39;49m\u001b[43m_retry_on_timeout\u001b[49m\u001b[43m,\u001b[49m\n\u001b[1;32m    325\u001b[0m \u001b[43m    \u001b[49m\u001b[43mclient_meta\u001b[49m\u001b[38;5;241;43m=\u001b[39;49m\u001b[38;5;28;43mself\u001b[39;49m\u001b[38;5;241;43m.\u001b[39;49m\u001b[43m_client_meta\u001b[49m\u001b[43m,\u001b[49m\n\u001b[1;32m    326\u001b[0m \u001b[43m    \u001b[49m\u001b[43motel_span\u001b[49m\u001b[38;5;241;43m=\u001b[39;49m\u001b[43motel_span\u001b[49m\u001b[43m,\u001b[49m\n\u001b[1;32m    327\u001b[0m \u001b[43m\u001b[49m\u001b[43m)\u001b[49m\n\u001b[1;32m    329\u001b[0m \u001b[38;5;66;03m# HEAD with a 404 is returned as a normal response\u001b[39;00m\n\u001b[1;32m    330\u001b[0m \u001b[38;5;66;03m# since this is used as an 'exists' functionality.\u001b[39;00m\n\u001b[1;32m    331\u001b[0m \u001b[38;5;28;01mif\u001b[39;00m \u001b[38;5;129;01mnot\u001b[39;00m (method \u001b[38;5;241m==\u001b[39m \u001b[38;5;124m\"\u001b[39m\u001b[38;5;124mHEAD\u001b[39m\u001b[38;5;124m\"\u001b[39m \u001b[38;5;129;01mand\u001b[39;00m meta\u001b[38;5;241m.\u001b[39mstatus \u001b[38;5;241m==\u001b[39m \u001b[38;5;241m404\u001b[39m) \u001b[38;5;129;01mand\u001b[39;00m (\n\u001b[1;32m    332\u001b[0m     \u001b[38;5;129;01mnot\u001b[39;00m \u001b[38;5;241m200\u001b[39m \u001b[38;5;241m<\u001b[39m\u001b[38;5;241m=\u001b[39m meta\u001b[38;5;241m.\u001b[39mstatus \u001b[38;5;241m<\u001b[39m \u001b[38;5;241m299\u001b[39m\n\u001b[1;32m    333\u001b[0m     \u001b[38;5;129;01mand\u001b[39;00m (\n\u001b[0;32m   (...)\u001b[0m\n\u001b[1;32m    337\u001b[0m     )\n\u001b[1;32m    338\u001b[0m ):\n",
      "File \u001b[0;32m/usr/local/python/3.10.13/lib/python3.10/site-packages/elastic_transport/_transport.py:342\u001b[0m, in \u001b[0;36mTransport.perform_request\u001b[0;34m(self, method, target, body, headers, max_retries, retry_on_status, retry_on_timeout, request_timeout, client_meta, otel_span)\u001b[0m\n\u001b[1;32m    340\u001b[0m \u001b[38;5;28;01mtry\u001b[39;00m:\n\u001b[1;32m    341\u001b[0m     otel_span\u001b[38;5;241m.\u001b[39mset_node_metadata(node\u001b[38;5;241m.\u001b[39mhost, node\u001b[38;5;241m.\u001b[39mport, node\u001b[38;5;241m.\u001b[39mbase_url, target)\n\u001b[0;32m--> 342\u001b[0m     resp \u001b[38;5;241m=\u001b[39m \u001b[43mnode\u001b[49m\u001b[38;5;241;43m.\u001b[39;49m\u001b[43mperform_request\u001b[49m\u001b[43m(\u001b[49m\n\u001b[1;32m    343\u001b[0m \u001b[43m        \u001b[49m\u001b[43mmethod\u001b[49m\u001b[43m,\u001b[49m\n\u001b[1;32m    344\u001b[0m \u001b[43m        \u001b[49m\u001b[43mtarget\u001b[49m\u001b[43m,\u001b[49m\n\u001b[1;32m    345\u001b[0m \u001b[43m        \u001b[49m\u001b[43mbody\u001b[49m\u001b[38;5;241;43m=\u001b[39;49m\u001b[43mrequest_body\u001b[49m\u001b[43m,\u001b[49m\n\u001b[1;32m    346\u001b[0m \u001b[43m        \u001b[49m\u001b[43mheaders\u001b[49m\u001b[38;5;241;43m=\u001b[39;49m\u001b[43mrequest_headers\u001b[49m\u001b[43m,\u001b[49m\n\u001b[1;32m    347\u001b[0m \u001b[43m        \u001b[49m\u001b[43mrequest_timeout\u001b[49m\u001b[38;5;241;43m=\u001b[39;49m\u001b[43mrequest_timeout\u001b[49m\u001b[43m,\u001b[49m\n\u001b[1;32m    348\u001b[0m \u001b[43m    \u001b[49m\u001b[43m)\u001b[49m\n\u001b[1;32m    349\u001b[0m     _logger\u001b[38;5;241m.\u001b[39minfo(\n\u001b[1;32m    350\u001b[0m         \u001b[38;5;124m\"\u001b[39m\u001b[38;5;132;01m%s\u001b[39;00m\u001b[38;5;124m \u001b[39m\u001b[38;5;132;01m%s\u001b[39;00m\u001b[38;5;132;01m%s\u001b[39;00m\u001b[38;5;124m [status:\u001b[39m\u001b[38;5;132;01m%s\u001b[39;00m\u001b[38;5;124m duration:\u001b[39m\u001b[38;5;132;01m%.3f\u001b[39;00m\u001b[38;5;124ms]\u001b[39m\u001b[38;5;124m\"\u001b[39m\n\u001b[1;32m    351\u001b[0m         \u001b[38;5;241m%\u001b[39m (\n\u001b[0;32m   (...)\u001b[0m\n\u001b[1;32m    357\u001b[0m         )\n\u001b[1;32m    358\u001b[0m     )\n\u001b[1;32m    360\u001b[0m     \u001b[38;5;28;01mif\u001b[39;00m method \u001b[38;5;241m!=\u001b[39m \u001b[38;5;124m\"\u001b[39m\u001b[38;5;124mHEAD\u001b[39m\u001b[38;5;124m\"\u001b[39m:\n",
      "File \u001b[0;32m/usr/local/python/3.10.13/lib/python3.10/site-packages/elastic_transport/_node/_http_urllib3.py:202\u001b[0m, in \u001b[0;36mUrllib3HttpNode.perform_request\u001b[0;34m(self, method, target, body, headers, request_timeout)\u001b[0m\n\u001b[1;32m    194\u001b[0m         err \u001b[38;5;241m=\u001b[39m \u001b[38;5;167;01mConnectionError\u001b[39;00m(\u001b[38;5;28mstr\u001b[39m(e), errors\u001b[38;5;241m=\u001b[39m(e,))\n\u001b[1;32m    195\u001b[0m     \u001b[38;5;28mself\u001b[39m\u001b[38;5;241m.\u001b[39m_log_request(\n\u001b[1;32m    196\u001b[0m         method\u001b[38;5;241m=\u001b[39mmethod,\n\u001b[1;32m    197\u001b[0m         target\u001b[38;5;241m=\u001b[39mtarget,\n\u001b[0;32m   (...)\u001b[0m\n\u001b[1;32m    200\u001b[0m         exception\u001b[38;5;241m=\u001b[39merr,\n\u001b[1;32m    201\u001b[0m     )\n\u001b[0;32m--> 202\u001b[0m     \u001b[38;5;28;01mraise\u001b[39;00m err \u001b[38;5;28;01mfrom\u001b[39;00m \u001b[38;5;28;01mNone\u001b[39;00m\n\u001b[1;32m    204\u001b[0m meta \u001b[38;5;241m=\u001b[39m ApiResponseMeta(\n\u001b[1;32m    205\u001b[0m     node\u001b[38;5;241m=\u001b[39m\u001b[38;5;28mself\u001b[39m\u001b[38;5;241m.\u001b[39mconfig,\n\u001b[1;32m    206\u001b[0m     duration\u001b[38;5;241m=\u001b[39mduration,\n\u001b[0;32m   (...)\u001b[0m\n\u001b[1;32m    209\u001b[0m     headers\u001b[38;5;241m=\u001b[39mresponse_headers,\n\u001b[1;32m    210\u001b[0m )\n\u001b[1;32m    211\u001b[0m \u001b[38;5;28mself\u001b[39m\u001b[38;5;241m.\u001b[39m_log_request(\n\u001b[1;32m    212\u001b[0m     method\u001b[38;5;241m=\u001b[39mmethod,\n\u001b[1;32m    213\u001b[0m     target\u001b[38;5;241m=\u001b[39mtarget,\n\u001b[0;32m   (...)\u001b[0m\n\u001b[1;32m    217\u001b[0m     response\u001b[38;5;241m=\u001b[39mdata,\n\u001b[1;32m    218\u001b[0m )\n",
      "\u001b[0;31mConnectionError\u001b[0m: Connection error caused by: ConnectionError(Connection error caused by: NewConnectionError(<urllib3.connection.HTTPConnection object at 0x72c6ed9fa680>: Failed to establish a new connection: [Errno 111] Connection refused))"
     ]
    }
   ],
   "source": [
    "from elasticsearch import Elasticsearch\n",
    "\n",
    "es_client = Elasticsearch('http://localhost:9200') \n",
    "\n",
    "index_settings = {\n",
    "    \"settings\": {\n",
    "        \"number_of_shards\": 1,\n",
    "        \"number_of_replicas\": 0\n",
    "    },\n",
    "    \"mappings\": {\n",
    "        \"properties\": {\n",
    "            \"text\": {\"type\": \"text\"},\n",
    "            \"section\": {\"type\": \"text\"},\n",
    "            \"question\": {\"type\": \"text\"},\n",
    "            \"course\": {\"type\": \"keyword\"},\n",
    "            \"id\": {\"type\": \"keyword\"},\n",
    "            \"question_vector\": {\n",
    "                \"type\": \"dense_vector\",\n",
    "                \"dims\": 768,\n",
    "                \"index\": True,\n",
    "                \"similarity\": \"cosine\"\n",
    "            },\n",
    "            \"text_vector\": {\n",
    "                \"type\": \"dense_vector\",\n",
    "                \"dims\": 768,\n",
    "                \"index\": True,\n",
    "                \"similarity\": \"cosine\"\n",
    "            },\n",
    "            \"question_text_vector\": {\n",
    "                \"type\": \"dense_vector\",\n",
    "                \"dims\": 768,\n",
    "                \"index\": True,\n",
    "                \"similarity\": \"cosine\"\n",
    "            },\n",
    "        }\n",
    "    }\n",
    "}\n",
    "\n",
    "index_name = \"course-questions\"\n",
    "\n",
    "es_client.indices.delete(index=index_name, ignore_unavailable=True)\n",
    "es_client.indices.create(index=index_name, body=index_settings)"
   ]
  },
  {
   "cell_type": "code",
   "execution_count": null,
   "id": "d2b333ef-3282-471c-bd18-19311a95361a",
   "metadata": {},
   "outputs": [],
   "source": []
  }
 ],
 "metadata": {
  "kernelspec": {
   "display_name": "Python 3 (ipykernel)",
   "language": "python",
   "name": "python3"
  },
  "language_info": {
   "codemirror_mode": {
    "name": "ipython",
    "version": 3
   },
   "file_extension": ".py",
   "mimetype": "text/x-python",
   "name": "python",
   "nbconvert_exporter": "python",
   "pygments_lexer": "ipython3",
   "version": "3.10.13"
  }
 },
 "nbformat": 4,
 "nbformat_minor": 5
}
